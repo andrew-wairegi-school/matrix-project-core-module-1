{
  "nbformat": 4,
  "nbformat_minor": 0,
  "metadata": {
    "colab": {
      "name": "Week 5: Matrix team Project.ipynb",
      "provenance": [],
      "collapsed_sections": [],
      "include_colab_link": true
    },
    "kernelspec": {
      "name": "python3",
      "display_name": "Python 3"
    },
    "language_info": {
      "name": "python"
    }
  },
  "cells": [
    {
      "cell_type": "markdown",
      "metadata": {
        "id": "view-in-github",
        "colab_type": "text"
      },
      "source": [
        "<a href=\"https://colab.research.google.com/github/andrew-wairegi-school/matrix-project-core-module-1/blob/main/Week_5_Matrix_team_Project.ipynb\" target=\"_parent\"><img src=\"https://colab.research.google.com/assets/colab-badge.svg\" alt=\"Open In Colab\"/></a>"
      ]
    },
    {
      "cell_type": "markdown",
      "metadata": {
        "id": "yjonJGNnYwoc"
      },
      "source": [
        "## 1. Defining the question"
      ]
    },
    {
      "cell_type": "markdown",
      "metadata": {
        "id": "jPlriVudY0oQ"
      },
      "source": [
        "### a) Specifying the Data Analytic Question"
      ]
    },
    {
      "cell_type": "markdown",
      "metadata": {
        "id": "jMfBNc0QY3xe"
      },
      "source": [
        "To identify the trends and causes of fatalities on Australian roads from the year 1989 to 2021. Using exploratory data analysis"
      ]
    },
    {
      "cell_type": "markdown",
      "metadata": {
        "id": "n7FS_CQ5Y7Ni"
      },
      "source": [
        "### b) Defining the Metric for Success"
      ]
    },
    {
      "cell_type": "markdown",
      "metadata": {
        "id": "vHd5XvMR1cJn"
      },
      "source": [
        "To be able to find the answer to our hypothesis. Using a hypothesis test"
      ]
    },
    {
      "cell_type": "markdown",
      "metadata": {
        "id": "XZZUR89DY81m"
      },
      "source": [
        "### c) Understanding the context "
      ]
    },
    {
      "cell_type": "markdown",
      "metadata": {
        "id": "nlL0T7QTZAJ5"
      },
      "source": [
        "According to research, there have been more than 189,000 deaths on Australia’s roads. Approximately four people die and 90 people are seriously injured each day. The cost of road trauma to the Australian community is tragic and widespread.\n",
        "Our project focuses on analyzing crash fatalities data in Australia according to several factors, including gender, age, state,  age group, type of road users, day of the week, and time of the week.\n"
      ]
    },
    {
      "cell_type": "markdown",
      "metadata": {
        "id": "OAwlRFioZA9z"
      },
      "source": [
        "### d) Recording the Experimental Design"
      ]
    },
    {
      "cell_type": "markdown",
      "metadata": {
        "id": "9jEbnKdZ1hpw"
      },
      "source": [
        "1. Previewing the dataset\n",
        "2. Data Cleaning\n",
        "3. Data Analysis\n",
        "4. Hypothesis creation & testing"
      ]
    },
    {
      "cell_type": "markdown",
      "metadata": {
        "id": "U3EzrniAZGCh"
      },
      "source": [
        "### e) Data Relevance"
      ]
    },
    {
      "cell_type": "markdown",
      "metadata": {
        "id": "hUSeDH_lZJCb"
      },
      "source": [
        "The data is relevant because it has upto date information on the road accidents in Australia from 1989 to 2021. This will allow us to analyze the data effectively."
      ]
    },
    {
      "cell_type": "markdown",
      "metadata": {
        "id": "2-cm1w42K_W0"
      },
      "source": [
        "## 2. Reading the data"
      ]
    },
    {
      "cell_type": "code",
      "metadata": {
        "id": "w5a-pJSCLIQ6"
      },
      "source": [
        "# Importing the libraries\n",
        "import numpy as np\n",
        "import pandas as pd\n",
        "import seaborn as sns\n",
        "import matplotlib.pyplot as plt"
      ],
      "execution_count": 62,
      "outputs": []
    },
    {
      "cell_type": "code",
      "metadata": {
        "id": "redUftWQLXCn",
        "colab": {
          "base_uri": "https://localhost:8080/"
        },
        "outputId": "a8dc548f-ef80-4ca6-a6a5-445edc37f74e"
      },
      "source": [
        "# Loading the data\n",
        "df = pd.read_csv('Crash_Data.csv')"
      ],
      "execution_count": 63,
      "outputs": [
        {
          "output_type": "stream",
          "name": "stderr",
          "text": [
            "/usr/local/lib/python3.7/dist-packages/IPython/core/interactiveshell.py:2718: DtypeWarning: Columns (10,14,15,16,17) have mixed types.Specify dtype option on import or set low_memory=False.\n",
            "  interactivity=interactivity, compiler=compiler, result=result)\n"
          ]
        }
      ]
    },
    {
      "cell_type": "markdown",
      "metadata": {
        "id": "YnuT8s3Gbv_u"
      },
      "source": [
        "## 3. Checking the Data"
      ]
    },
    {
      "cell_type": "code",
      "metadata": {
        "id": "CjuHyS88M0kW",
        "colab": {
          "base_uri": "https://localhost:8080/",
          "height": 411
        },
        "outputId": "299361be-d53c-48c1-f122-9bfcf015f92e"
      },
      "source": [
        "# Checking the data\n",
        "df.head()"
      ],
      "execution_count": 64,
      "outputs": [
        {
          "output_type": "execute_result",
          "data": {
            "text/html": [
              "<div>\n",
              "<style scoped>\n",
              "    .dataframe tbody tr th:only-of-type {\n",
              "        vertical-align: middle;\n",
              "    }\n",
              "\n",
              "    .dataframe tbody tr th {\n",
              "        vertical-align: top;\n",
              "    }\n",
              "\n",
              "    .dataframe thead th {\n",
              "        text-align: right;\n",
              "    }\n",
              "</style>\n",
              "<table border=\"1\" class=\"dataframe\">\n",
              "  <thead>\n",
              "    <tr style=\"text-align: right;\">\n",
              "      <th></th>\n",
              "      <th>Crash ID</th>\n",
              "      <th>State</th>\n",
              "      <th>Month</th>\n",
              "      <th>Year</th>\n",
              "      <th>Dayweek</th>\n",
              "      <th>Time</th>\n",
              "      <th>Crash Type</th>\n",
              "      <th>Bus Involvement</th>\n",
              "      <th>Heavy Rigid Truck Involvement</th>\n",
              "      <th>Articulated Truck Involvement</th>\n",
              "      <th>Speed Limit</th>\n",
              "      <th>Road User</th>\n",
              "      <th>Gender</th>\n",
              "      <th>Age</th>\n",
              "      <th>National Remoteness Areas</th>\n",
              "      <th>SA4 Name 2016</th>\n",
              "      <th>National LGA Name 2017</th>\n",
              "      <th>National Road Type</th>\n",
              "      <th>Christmas Period</th>\n",
              "      <th>Easter Period</th>\n",
              "      <th>Age Group</th>\n",
              "      <th>Day of week</th>\n",
              "      <th>Time of day</th>\n",
              "    </tr>\n",
              "  </thead>\n",
              "  <tbody>\n",
              "    <tr>\n",
              "      <th>0</th>\n",
              "      <td>20212133</td>\n",
              "      <td>Vic</td>\n",
              "      <td>9</td>\n",
              "      <td>2021</td>\n",
              "      <td>Sunday</td>\n",
              "      <td>0:30</td>\n",
              "      <td>Single</td>\n",
              "      <td>NaN</td>\n",
              "      <td>NaN</td>\n",
              "      <td>NaN</td>\n",
              "      <td>NaN</td>\n",
              "      <td>Motorcycle rider</td>\n",
              "      <td>Male</td>\n",
              "      <td>38</td>\n",
              "      <td>Inner Regional Australia</td>\n",
              "      <td>Melbourne - Outer East</td>\n",
              "      <td>Yarra Ranges (S)</td>\n",
              "      <td>Arterial Road</td>\n",
              "      <td>No</td>\n",
              "      <td>No</td>\n",
              "      <td>26_to_39</td>\n",
              "      <td>Weekend</td>\n",
              "      <td>Night</td>\n",
              "    </tr>\n",
              "    <tr>\n",
              "      <th>1</th>\n",
              "      <td>20214022</td>\n",
              "      <td>SA</td>\n",
              "      <td>9</td>\n",
              "      <td>2021</td>\n",
              "      <td>Saturday</td>\n",
              "      <td>23:31</td>\n",
              "      <td>Multiple</td>\n",
              "      <td>No</td>\n",
              "      <td>No</td>\n",
              "      <td>No</td>\n",
              "      <td>110</td>\n",
              "      <td>Pedestrian</td>\n",
              "      <td>Female</td>\n",
              "      <td>28</td>\n",
              "      <td>Major Cities of Australia</td>\n",
              "      <td>Adelaide - North</td>\n",
              "      <td>Playford (C)</td>\n",
              "      <td>NaN</td>\n",
              "      <td>No</td>\n",
              "      <td>No</td>\n",
              "      <td>26_to_39</td>\n",
              "      <td>Weekend</td>\n",
              "      <td>Night</td>\n",
              "    </tr>\n",
              "    <tr>\n",
              "      <th>2</th>\n",
              "      <td>20212096</td>\n",
              "      <td>Vic</td>\n",
              "      <td>9</td>\n",
              "      <td>2021</td>\n",
              "      <td>Saturday</td>\n",
              "      <td>23:00</td>\n",
              "      <td>Single</td>\n",
              "      <td>NaN</td>\n",
              "      <td>NaN</td>\n",
              "      <td>NaN</td>\n",
              "      <td>NaN</td>\n",
              "      <td>Passenger</td>\n",
              "      <td>Male</td>\n",
              "      <td>19</td>\n",
              "      <td>Inner Regional Australia</td>\n",
              "      <td>Hume</td>\n",
              "      <td>Wangaratta (RC)</td>\n",
              "      <td>Access road</td>\n",
              "      <td>No</td>\n",
              "      <td>No</td>\n",
              "      <td>17_to_25</td>\n",
              "      <td>Weekend</td>\n",
              "      <td>Night</td>\n",
              "    </tr>\n",
              "    <tr>\n",
              "      <th>3</th>\n",
              "      <td>20212145</td>\n",
              "      <td>Vic</td>\n",
              "      <td>9</td>\n",
              "      <td>2021</td>\n",
              "      <td>Saturday</td>\n",
              "      <td>22:25</td>\n",
              "      <td>Single</td>\n",
              "      <td>NaN</td>\n",
              "      <td>NaN</td>\n",
              "      <td>NaN</td>\n",
              "      <td>NaN</td>\n",
              "      <td>Driver</td>\n",
              "      <td>Male</td>\n",
              "      <td>23</td>\n",
              "      <td>Outer Regional Australia</td>\n",
              "      <td>Hume</td>\n",
              "      <td>Wangaratta (RC)</td>\n",
              "      <td>Arterial Road</td>\n",
              "      <td>No</td>\n",
              "      <td>No</td>\n",
              "      <td>17_to_25</td>\n",
              "      <td>Weekend</td>\n",
              "      <td>Night</td>\n",
              "    </tr>\n",
              "    <tr>\n",
              "      <th>4</th>\n",
              "      <td>20212075</td>\n",
              "      <td>Vic</td>\n",
              "      <td>9</td>\n",
              "      <td>2021</td>\n",
              "      <td>Saturday</td>\n",
              "      <td>5:15</td>\n",
              "      <td>Single</td>\n",
              "      <td>NaN</td>\n",
              "      <td>NaN</td>\n",
              "      <td>NaN</td>\n",
              "      <td>NaN</td>\n",
              "      <td>Motorcycle rider</td>\n",
              "      <td>Male</td>\n",
              "      <td>46</td>\n",
              "      <td>Major Cities of Australia</td>\n",
              "      <td>Melbourne - South East</td>\n",
              "      <td>Casey (C)</td>\n",
              "      <td>Local Road</td>\n",
              "      <td>No</td>\n",
              "      <td>No</td>\n",
              "      <td>40_to_64</td>\n",
              "      <td>Weekend</td>\n",
              "      <td>Night</td>\n",
              "    </tr>\n",
              "  </tbody>\n",
              "</table>\n",
              "</div>"
            ],
            "text/plain": [
              "   Crash ID State  Month  Year  ... Easter Period Age Group Day of week Time of day\n",
              "0  20212133   Vic      9  2021  ...            No  26_to_39     Weekend       Night\n",
              "1  20214022    SA      9  2021  ...            No  26_to_39     Weekend       Night\n",
              "2  20212096   Vic      9  2021  ...            No  17_to_25     Weekend       Night\n",
              "3  20212145   Vic      9  2021  ...            No  17_to_25     Weekend       Night\n",
              "4  20212075   Vic      9  2021  ...            No  40_to_64     Weekend       Night\n",
              "\n",
              "[5 rows x 23 columns]"
            ]
          },
          "metadata": {},
          "execution_count": 64
        }
      ]
    },
    {
      "cell_type": "code",
      "metadata": {
        "id": "m8ZF3aGEM6-0",
        "colab": {
          "base_uri": "https://localhost:8080/",
          "height": 258
        },
        "outputId": "fa9ec232-cd75-4b16-f448-581d86a7885e"
      },
      "source": [
        "# Checking the tail\n",
        "df.tail()"
      ],
      "execution_count": 65,
      "outputs": [
        {
          "output_type": "execute_result",
          "data": {
            "text/html": [
              "<div>\n",
              "<style scoped>\n",
              "    .dataframe tbody tr th:only-of-type {\n",
              "        vertical-align: middle;\n",
              "    }\n",
              "\n",
              "    .dataframe tbody tr th {\n",
              "        vertical-align: top;\n",
              "    }\n",
              "\n",
              "    .dataframe thead th {\n",
              "        text-align: right;\n",
              "    }\n",
              "</style>\n",
              "<table border=\"1\" class=\"dataframe\">\n",
              "  <thead>\n",
              "    <tr style=\"text-align: right;\">\n",
              "      <th></th>\n",
              "      <th>Crash ID</th>\n",
              "      <th>State</th>\n",
              "      <th>Month</th>\n",
              "      <th>Year</th>\n",
              "      <th>Dayweek</th>\n",
              "      <th>Time</th>\n",
              "      <th>Crash Type</th>\n",
              "      <th>Bus Involvement</th>\n",
              "      <th>Heavy Rigid Truck Involvement</th>\n",
              "      <th>Articulated Truck Involvement</th>\n",
              "      <th>Speed Limit</th>\n",
              "      <th>Road User</th>\n",
              "      <th>Gender</th>\n",
              "      <th>Age</th>\n",
              "      <th>National Remoteness Areas</th>\n",
              "      <th>SA4 Name 2016</th>\n",
              "      <th>National LGA Name 2017</th>\n",
              "      <th>National Road Type</th>\n",
              "      <th>Christmas Period</th>\n",
              "      <th>Easter Period</th>\n",
              "      <th>Age Group</th>\n",
              "      <th>Day of week</th>\n",
              "      <th>Time of day</th>\n",
              "    </tr>\n",
              "  </thead>\n",
              "  <tbody>\n",
              "    <tr>\n",
              "      <th>52838</th>\n",
              "      <td>19891246</td>\n",
              "      <td>NSW</td>\n",
              "      <td>1</td>\n",
              "      <td>1989</td>\n",
              "      <td>Wednesday</td>\n",
              "      <td>17:05</td>\n",
              "      <td>Single</td>\n",
              "      <td>Yes</td>\n",
              "      <td>NaN</td>\n",
              "      <td>No</td>\n",
              "      <td>60</td>\n",
              "      <td>Passenger</td>\n",
              "      <td>Female</td>\n",
              "      <td>5</td>\n",
              "      <td>NaN</td>\n",
              "      <td>NaN</td>\n",
              "      <td>NaN</td>\n",
              "      <td>NaN</td>\n",
              "      <td>No</td>\n",
              "      <td>No</td>\n",
              "      <td>0_to_16</td>\n",
              "      <td>Weekday</td>\n",
              "      <td>Day</td>\n",
              "    </tr>\n",
              "    <tr>\n",
              "      <th>52839</th>\n",
              "      <td>19895088</td>\n",
              "      <td>WA</td>\n",
              "      <td>1</td>\n",
              "      <td>1989</td>\n",
              "      <td>Monday</td>\n",
              "      <td>6:00</td>\n",
              "      <td>Single</td>\n",
              "      <td>No</td>\n",
              "      <td>NaN</td>\n",
              "      <td>No</td>\n",
              "      <td>110</td>\n",
              "      <td>Passenger</td>\n",
              "      <td>Male</td>\n",
              "      <td>19</td>\n",
              "      <td>NaN</td>\n",
              "      <td>NaN</td>\n",
              "      <td>NaN</td>\n",
              "      <td>NaN</td>\n",
              "      <td>Yes</td>\n",
              "      <td>No</td>\n",
              "      <td>17_to_25</td>\n",
              "      <td>Weekday</td>\n",
              "      <td>Day</td>\n",
              "    </tr>\n",
              "    <tr>\n",
              "      <th>52840</th>\n",
              "      <td>19895088</td>\n",
              "      <td>WA</td>\n",
              "      <td>1</td>\n",
              "      <td>1989</td>\n",
              "      <td>Monday</td>\n",
              "      <td>6:00</td>\n",
              "      <td>Single</td>\n",
              "      <td>No</td>\n",
              "      <td>NaN</td>\n",
              "      <td>No</td>\n",
              "      <td>110</td>\n",
              "      <td>Passenger</td>\n",
              "      <td>Male</td>\n",
              "      <td>17</td>\n",
              "      <td>NaN</td>\n",
              "      <td>NaN</td>\n",
              "      <td>NaN</td>\n",
              "      <td>NaN</td>\n",
              "      <td>Yes</td>\n",
              "      <td>No</td>\n",
              "      <td>17_to_25</td>\n",
              "      <td>Weekday</td>\n",
              "      <td>Day</td>\n",
              "    </tr>\n",
              "    <tr>\n",
              "      <th>52841</th>\n",
              "      <td>19895088</td>\n",
              "      <td>WA</td>\n",
              "      <td>1</td>\n",
              "      <td>1989</td>\n",
              "      <td>Monday</td>\n",
              "      <td>6:00</td>\n",
              "      <td>Single</td>\n",
              "      <td>No</td>\n",
              "      <td>NaN</td>\n",
              "      <td>No</td>\n",
              "      <td>110</td>\n",
              "      <td>Passenger</td>\n",
              "      <td>Male</td>\n",
              "      <td>17</td>\n",
              "      <td>NaN</td>\n",
              "      <td>NaN</td>\n",
              "      <td>NaN</td>\n",
              "      <td>NaN</td>\n",
              "      <td>Yes</td>\n",
              "      <td>No</td>\n",
              "      <td>17_to_25</td>\n",
              "      <td>Weekday</td>\n",
              "      <td>Day</td>\n",
              "    </tr>\n",
              "    <tr>\n",
              "      <th>52842</th>\n",
              "      <td>19896063</td>\n",
              "      <td>Tas</td>\n",
              "      <td>1</td>\n",
              "      <td>1989</td>\n",
              "      <td>Tuesday</td>\n",
              "      <td>12:40</td>\n",
              "      <td>Multiple</td>\n",
              "      <td>No</td>\n",
              "      <td>NaN</td>\n",
              "      <td>No</td>\n",
              "      <td>60</td>\n",
              "      <td>Passenger</td>\n",
              "      <td>Female</td>\n",
              "      <td>63</td>\n",
              "      <td>NaN</td>\n",
              "      <td>NaN</td>\n",
              "      <td>NaN</td>\n",
              "      <td>NaN</td>\n",
              "      <td>No</td>\n",
              "      <td>No</td>\n",
              "      <td>40_to_64</td>\n",
              "      <td>Weekday</td>\n",
              "      <td>Day</td>\n",
              "    </tr>\n",
              "  </tbody>\n",
              "</table>\n",
              "</div>"
            ],
            "text/plain": [
              "       Crash ID State  Month  ...  Age Group Day of week Time of day\n",
              "52838  19891246   NSW      1  ...    0_to_16     Weekday         Day\n",
              "52839  19895088    WA      1  ...   17_to_25     Weekday         Day\n",
              "52840  19895088    WA      1  ...   17_to_25     Weekday         Day\n",
              "52841  19895088    WA      1  ...   17_to_25     Weekday         Day\n",
              "52842  19896063   Tas      1  ...   40_to_64     Weekday         Day\n",
              "\n",
              "[5 rows x 23 columns]"
            ]
          },
          "metadata": {},
          "execution_count": 65
        }
      ]
    },
    {
      "cell_type": "code",
      "metadata": {
        "id": "tREntEn0NXoA",
        "colab": {
          "base_uri": "https://localhost:8080/"
        },
        "outputId": "f59097fb-3cca-4047-d9b6-87b6cfc7c98a"
      },
      "source": [
        "# Determining the number of records\n",
        "df.shape"
      ],
      "execution_count": 66,
      "outputs": [
        {
          "output_type": "execute_result",
          "data": {
            "text/plain": [
              "(52843, 23)"
            ]
          },
          "metadata": {},
          "execution_count": 66
        }
      ]
    },
    {
      "cell_type": "code",
      "metadata": {
        "id": "zjmQSo0bNgXX",
        "colab": {
          "base_uri": "https://localhost:8080/"
        },
        "outputId": "646dc8e9-0487-4e90-a5a5-4da7046ba3f4"
      },
      "source": [
        "# Checking for unique values\n",
        "df.nunique()"
      ],
      "execution_count": 67,
      "outputs": [
        {
          "output_type": "execute_result",
          "data": {
            "text/plain": [
              "Crash ID                         47567\n",
              "State                                8\n",
              "Month                               12\n",
              "Year                                33\n",
              "Dayweek                              7\n",
              "Time                              1413\n",
              "Crash Type                           2\n",
              "Bus Involvement                      2\n",
              "Heavy Rigid Truck Involvement        2\n",
              "Articulated Truck Involvement        2\n",
              "Speed Limit                         30\n",
              "Road User                            7\n",
              "Gender                               3\n",
              "Age                                103\n",
              "National Remoteness Areas            5\n",
              "SA4 Name 2016                       88\n",
              "National LGA Name 2017             500\n",
              "National Road Type                  13\n",
              "Christmas Period                     2\n",
              "Easter Period                        2\n",
              "Age Group                            6\n",
              "Day of week                          2\n",
              "Time of day                          2\n",
              "dtype: int64"
            ]
          },
          "metadata": {},
          "execution_count": 67
        }
      ]
    },
    {
      "cell_type": "code",
      "metadata": {
        "id": "mwjl4QerNuVp",
        "colab": {
          "base_uri": "https://localhost:8080/"
        },
        "outputId": "cf0e5408-8a24-431f-82f6-98d04794629e"
      },
      "source": [
        "# Checking the datatypes\n",
        "df.info()"
      ],
      "execution_count": 68,
      "outputs": [
        {
          "output_type": "stream",
          "name": "stdout",
          "text": [
            "<class 'pandas.core.frame.DataFrame'>\n",
            "RangeIndex: 52843 entries, 0 to 52842\n",
            "Data columns (total 23 columns):\n",
            " #   Column                         Non-Null Count  Dtype \n",
            "---  ------                         --------------  ----- \n",
            " 0   Crash ID                       52843 non-null  int64 \n",
            " 1   State                          52843 non-null  object\n",
            " 2   Month                          52843 non-null  int64 \n",
            " 3   Year                           52843 non-null  int64 \n",
            " 4   Dayweek                        52843 non-null  object\n",
            " 5   Time                           52803 non-null  object\n",
            " 6   Crash Type                     52843 non-null  object\n",
            " 7   Bus Involvement                52821 non-null  object\n",
            " 8   Heavy Rigid Truck Involvement  32328 non-null  object\n",
            " 9   Articulated Truck Involvement  52821 non-null  object\n",
            " 10  Speed Limit                    52141 non-null  object\n",
            " 11  Road User                      52843 non-null  object\n",
            " 12  Gender                         52816 non-null  object\n",
            " 13  Age                            52843 non-null  int64 \n",
            " 14  National Remoteness Areas      6878 non-null   object\n",
            " 15  SA4 Name 2016                  6892 non-null   object\n",
            " 16  National LGA Name 2017         6893 non-null   object\n",
            " 17  National Road Type             6877 non-null   object\n",
            " 18  Christmas Period               52843 non-null  object\n",
            " 19  Easter Period                  52843 non-null  object\n",
            " 20  Age Group                      52753 non-null  object\n",
            " 21  Day of week                    52843 non-null  object\n",
            " 22  Time of day                    52843 non-null  object\n",
            "dtypes: int64(4), object(19)\n",
            "memory usage: 9.3+ MB\n"
          ]
        }
      ]
    },
    {
      "cell_type": "markdown",
      "metadata": {
        "id": "V86ysYKiWpet"
      },
      "source": [
        "## 4. External Data Source Validation"
      ]
    },
    {
      "cell_type": "markdown",
      "metadata": {
        "id": "hEDii2UeWs-X"
      },
      "source": [
        "It is from the Australian government, from the Bureau of Infrastructure and Transport. It was stored in the Australian Road Deaths Database (ARDD), on the Australian website. It was then uploaded to Kaggle by \"Deep Contractor\". The link to the dataset is [here](https://data.gov.au/dataset/ds-dga-5b530fb8-526e-4fbf-b0f6-aa24e84e4277/details?q=ardd) "
      ]
    },
    {
      "cell_type": "markdown",
      "metadata": {
        "id": "ukg5buA6K8kW"
      },
      "source": [
        "## 5. Cleaning"
      ]
    },
    {
      "cell_type": "code",
      "metadata": {
        "id": "dS53SuBYOY6s",
        "colab": {
          "base_uri": "https://localhost:8080/"
        },
        "outputId": "6f1f0a60-0d20-4994-dac8-8b9bd7d658a6"
      },
      "source": [
        "# 1. Dropping the null values\n",
        "\n",
        "# Checking for the missing values\n",
        "df.isnull().sum()"
      ],
      "execution_count": 69,
      "outputs": [
        {
          "output_type": "execute_result",
          "data": {
            "text/plain": [
              "Crash ID                             0\n",
              "State                                0\n",
              "Month                                0\n",
              "Year                                 0\n",
              "Dayweek                              0\n",
              "Time                                40\n",
              "Crash Type                           0\n",
              "Bus Involvement                     22\n",
              "Heavy Rigid Truck Involvement    20515\n",
              "Articulated Truck Involvement       22\n",
              "Speed Limit                        702\n",
              "Road User                            0\n",
              "Gender                              27\n",
              "Age                                  0\n",
              "National Remoteness Areas        45965\n",
              "SA4 Name 2016                    45951\n",
              "National LGA Name 2017           45950\n",
              "National Road Type               45966\n",
              "Christmas Period                     0\n",
              "Easter Period                        0\n",
              "Age Group                           90\n",
              "Day of week                          0\n",
              "Time of day                          0\n",
              "dtype: int64"
            ]
          },
          "metadata": {},
          "execution_count": 69
        }
      ]
    },
    {
      "cell_type": "code",
      "metadata": {
        "id": "4fPE-OZTNCZ9"
      },
      "source": [
        "# Dropping the columns\n",
        "df = df.drop([\"National Remoteness Areas\", \"SA4 Name 2016\", \"National LGA Name 2017\", \"National Road Type\", \"Heavy Rigid Truck Involvement\"], axis = 1)"
      ],
      "execution_count": 70,
      "outputs": []
    },
    {
      "cell_type": "code",
      "metadata": {
        "id": "9RHnKcBTPvS0"
      },
      "source": [
        "# Dropping the rows\n",
        "df = df.dropna(axis = 0)"
      ],
      "execution_count": 71,
      "outputs": []
    },
    {
      "cell_type": "code",
      "metadata": {
        "colab": {
          "base_uri": "https://localhost:8080/"
        },
        "id": "GL-DhzBJRxQp",
        "outputId": "3f2f248f-68ec-487b-df7d-5470273167e1"
      },
      "source": [
        "# Checking for null values\n",
        "df.isnull().sum()"
      ],
      "execution_count": 72,
      "outputs": [
        {
          "output_type": "execute_result",
          "data": {
            "text/plain": [
              "Crash ID                         0\n",
              "State                            0\n",
              "Month                            0\n",
              "Year                             0\n",
              "Dayweek                          0\n",
              "Time                             0\n",
              "Crash Type                       0\n",
              "Bus Involvement                  0\n",
              "Articulated Truck Involvement    0\n",
              "Speed Limit                      0\n",
              "Road User                        0\n",
              "Gender                           0\n",
              "Age                              0\n",
              "Christmas Period                 0\n",
              "Easter Period                    0\n",
              "Age Group                        0\n",
              "Day of week                      0\n",
              "Time of day                      0\n",
              "dtype: int64"
            ]
          },
          "metadata": {},
          "execution_count": 72
        }
      ]
    },
    {
      "cell_type": "code",
      "metadata": {
        "id": "Lx2XHt49Rzar",
        "colab": {
          "base_uri": "https://localhost:8080/"
        },
        "outputId": "f81edf5a-9a3f-455d-e1e0-fcd55ab37e65"
      },
      "source": [
        "# 2. Conversion to date time datatype\n",
        "df[\"Time\"] = pd.to_datetime(df[\"Time\"])"
      ],
      "execution_count": 73,
      "outputs": [
        {
          "output_type": "stream",
          "name": "stderr",
          "text": [
            "/usr/local/lib/python3.7/dist-packages/ipykernel_launcher.py:2: SettingWithCopyWarning: \n",
            "A value is trying to be set on a copy of a slice from a DataFrame.\n",
            "Try using .loc[row_indexer,col_indexer] = value instead\n",
            "\n",
            "See the caveats in the documentation: https://pandas.pydata.org/pandas-docs/stable/user_guide/indexing.html#returning-a-view-versus-a-copy\n",
            "  \n"
          ]
        }
      ]
    },
    {
      "cell_type": "code",
      "metadata": {
        "colab": {
          "base_uri": "https://localhost:8080/"
        },
        "id": "EO8aThXZS--M",
        "outputId": "ad3dd2da-422b-43e5-fe2d-3c5b65844353"
      },
      "source": [
        "# Checking datatypes\n",
        "df.info()"
      ],
      "execution_count": 74,
      "outputs": [
        {
          "output_type": "stream",
          "name": "stdout",
          "text": [
            "<class 'pandas.core.frame.DataFrame'>\n",
            "Int64Index: 51997 entries, 1 to 52842\n",
            "Data columns (total 18 columns):\n",
            " #   Column                         Non-Null Count  Dtype         \n",
            "---  ------                         --------------  -----         \n",
            " 0   Crash ID                       51997 non-null  int64         \n",
            " 1   State                          51997 non-null  object        \n",
            " 2   Month                          51997 non-null  int64         \n",
            " 3   Year                           51997 non-null  int64         \n",
            " 4   Dayweek                        51997 non-null  object        \n",
            " 5   Time                           51997 non-null  datetime64[ns]\n",
            " 6   Crash Type                     51997 non-null  object        \n",
            " 7   Bus Involvement                51997 non-null  object        \n",
            " 8   Articulated Truck Involvement  51997 non-null  object        \n",
            " 9   Speed Limit                    51997 non-null  object        \n",
            " 10  Road User                      51997 non-null  object        \n",
            " 11  Gender                         51997 non-null  object        \n",
            " 12  Age                            51997 non-null  int64         \n",
            " 13  Christmas Period               51997 non-null  object        \n",
            " 14  Easter Period                  51997 non-null  object        \n",
            " 15  Age Group                      51997 non-null  object        \n",
            " 16  Day of week                    51997 non-null  object        \n",
            " 17  Time of day                    51997 non-null  object        \n",
            "dtypes: datetime64[ns](1), int64(4), object(13)\n",
            "memory usage: 7.5+ MB\n"
          ]
        }
      ]
    },
    {
      "cell_type": "code",
      "metadata": {
        "colab": {
          "base_uri": "https://localhost:8080/",
          "height": 349
        },
        "id": "nS3zGuekTRXO",
        "outputId": "5d7b265b-2eec-49b0-b57c-b28ef636d8e2"
      },
      "source": [
        "# 3. Checking for outliers\n",
        "plt.title(\"Age plot\")\n",
        "sns.boxplot(df['Age'])\n",
        "plt.show()"
      ],
      "execution_count": 116,
      "outputs": [
        {
          "output_type": "stream",
          "name": "stderr",
          "text": [
            "/usr/local/lib/python3.7/dist-packages/seaborn/_decorators.py:43: FutureWarning: Pass the following variable as a keyword arg: x. From version 0.12, the only valid positional argument will be `data`, and passing other arguments without an explicit keyword will result in an error or misinterpretation.\n",
            "  FutureWarning\n"
          ]
        },
        {
          "output_type": "display_data",
          "data": {
            "image/png": "[encoded data removed]",
            "text/plain": [
              "<Figure size 432x288 with 1 Axes>"
            ]
          },
          "metadata": {
            "needs_background": "light"
          }
        }
      ]
    },
    {
      "cell_type": "code",
      "metadata": {
        "colab": {
          "base_uri": "https://localhost:8080/"
        },
        "id": "JT2vNsRFT3aA",
        "outputId": "4272faa3-2cb9-464b-ea94-c5d5b8090a61"
      },
      "source": [
        "# 4. Checking for duplicates\n",
        "df.duplicated().sum()"
      ],
      "execution_count": 76,
      "outputs": [
        {
          "output_type": "execute_result",
          "data": {
            "text/plain": [
              "142"
            ]
          },
          "metadata": {},
          "execution_count": 76
        }
      ]
    },
    {
      "cell_type": "code",
      "metadata": {
        "id": "uSyrSpJwVk7y"
      },
      "source": [
        "# Dropping\n",
        "df = df.drop_duplicates()"
      ],
      "execution_count": 77,
      "outputs": []
    },
    {
      "cell_type": "code",
      "metadata": {
        "colab": {
          "base_uri": "https://localhost:8080/"
        },
        "id": "cqQuvnuaWJlT",
        "outputId": "cadce12f-e822-46e2-9520-cae23019e088"
      },
      "source": [
        "df.duplicated().sum()"
      ],
      "execution_count": 78,
      "outputs": [
        {
          "output_type": "execute_result",
          "data": {
            "text/plain": [
              "0"
            ]
          },
          "metadata": {},
          "execution_count": 78
        }
      ]
    },
    {
      "cell_type": "markdown",
      "metadata": {
        "id": "anxdj9eqWfOu"
      },
      "source": [
        "## 6. Exploratory Analysis"
      ]
    },
    {
      "cell_type": "markdown",
      "metadata": {
        "id": "VTu4N2d9Yfkv"
      },
      "source": [
        "#### Univariate"
      ]
    },
    {
      "cell_type": "code",
      "metadata": {
        "colab": {
          "base_uri": "https://localhost:8080/"
        },
        "id": "j-bCZ7nimd-i",
        "outputId": "a376634f-76c2-4374-e519-56860fa8160b"
      },
      "source": [
        "#frequency table for the state column \n",
        "df[\"State\"].value_counts()"
      ],
      "execution_count": 79,
      "outputs": [
        {
          "output_type": "execute_result",
          "data": {
            "text/plain": [
              "NSW    16186\n",
              "Vic    11351\n",
              "Qld    10440\n",
              "WA      6122\n",
              "SA      4527\n",
              "Tas     1537\n",
              "NT      1367\n",
              "ACT      325\n",
              "Name: State, dtype: int64"
            ]
          },
          "metadata": {},
          "execution_count": 79
        }
      ]
    },
    {
      "cell_type": "code",
      "metadata": {
        "colab": {
          "base_uri": "https://localhost:8080/",
          "height": 312
        },
        "id": "v1HvJYGJkFww",
        "outputId": "dac614eb-d1bc-4d2a-b8c4-3a19aabd9b4a"
      },
      "source": [
        "#visualising the frequency table for state using histogram\n",
        "plt.hist(df[\"State\"], bins=10, histtype='bar', rwidth=0.9)\n",
        "plt.xlabel('State')\n",
        "plt.ylabel('Crashes number')\n",
        "plt.title('Distribution of Crashes per State') \n",
        "plt.figure(figsize=(4, 3))\n",
        "plt.show()\n",
        "#NSW state had the highest number of fatalities at 16186 and ACT and the least number of fatalities at 325."
      ],
      "execution_count": 80,
      "outputs": [
        {
          "output_type": "display_data",
          "data": {
            "image/png": "[encoded data removed]",
            "text/plain": [
              "<Figure size 432x288 with 1 Axes>"
            ]
          },
          "metadata": {
            "needs_background": "light"
          }
        },
        {
          "output_type": "display_data",
          "data": {
            "text/plain": [
              "<Figure size 288x216 with 0 Axes>"
            ]
          },
          "metadata": {}
        }
      ]
    },
    {
      "cell_type": "code",
      "metadata": {
        "colab": {
          "base_uri": "https://localhost:8080/"
        },
        "id": "w0zfvulvmZZp",
        "outputId": "24b34e89-aeba-4f7b-fb04-aeb16bc88932"
      },
      "source": [
        "#frequency tAfor the crash type column \n",
        "df[\"Crash Type\"].value_counts()"
      ],
      "execution_count": 81,
      "outputs": [
        {
          "output_type": "execute_result",
          "data": {
            "text/plain": [
              "Single      28585\n",
              "Multiple    23270\n",
              "Name: Crash Type, dtype: int64"
            ]
          },
          "metadata": {},
          "execution_count": 81
        }
      ]
    },
    {
      "cell_type": "code",
      "metadata": {
        "colab": {
          "base_uri": "https://localhost:8080/",
          "height": 312
        },
        "id": "Rq6dOLGWlCUH",
        "outputId": "2e4e855d-80ec-4698-aefc-744a6e8b4dd2"
      },
      "source": [
        "#creating a histogram for types of crashes\n",
        "plt.hist(df[\"Crash Type\"], bins=2, histtype='bar', rwidth=0.9)\n",
        "plt.xlabel('Crash Type')\n",
        "plt.ylabel('Crashes number')\n",
        "plt.title('Distribution of Crashes per Crash Type') \n",
        "plt.figure(figsize=(4, 3))\n",
        "plt.show()\n",
        "#There were more single crashes at 28585 than the multiple crushes at 23270 with a difference of approximately 5000 fatalities"
      ],
      "execution_count": 82,
      "outputs": [
        {
          "output_type": "display_data",
          "data": {
            "image/png": "[encoded data removed]",
            "text/plain": [
              "<Figure size 432x288 with 1 Axes>"
            ]
          },
          "metadata": {
            "needs_background": "light"
          }
        },
        {
          "output_type": "display_data",
          "data": {
            "text/plain": [
              "<Figure size 288x216 with 0 Axes>"
            ]
          },
          "metadata": {}
        }
      ]
    },
    {
      "cell_type": "code",
      "metadata": {
        "colab": {
          "base_uri": "https://localhost:8080/"
        },
        "id": "qH87263LlsnX",
        "outputId": "d2fe65ef-17c0-42eb-c710-6f871869e4f2"
      },
      "source": [
        "#summary for the Road user column \n",
        "df[\"Road User\"].value_counts()"
      ],
      "execution_count": 83,
      "outputs": [
        {
          "output_type": "execute_result",
          "data": {
            "text/plain": [
              "Driver                          23505\n",
              "Passenger                       11858\n",
              "Pedestrian                       8107\n",
              "Motorcycle rider                 6555\n",
              "Pedal cyclist                    1402\n",
              "Motorcycle pillion passenger      358\n",
              "Other/-9                           70\n",
              "Name: Road User, dtype: int64"
            ]
          },
          "metadata": {},
          "execution_count": 83
        }
      ]
    },
    {
      "cell_type": "code",
      "metadata": {
        "colab": {
          "base_uri": "https://localhost:8080/",
          "height": 295
        },
        "id": "JY-g-y-4lLFz",
        "outputId": "f5e32346-7930-49f1-e370-73e2ed6feea2"
      },
      "source": [
        "#creating a histogram for number of crashes for different road users\n",
        "plt.figure(figsize=(14, 4))\n",
        "plt.hist(df[\"Road User\"], bins=7, histtype='bar', rwidth=0.9)\n",
        "plt.xlabel('Road User')\n",
        "plt.ylabel('Crashes number')\n",
        "plt.title('Distribution of Crashes per Road User') \n",
        "plt.show()\n",
        "#The drivers were the leading victims of fatalities with 23,505 and the others who were not specified with 70"
      ],
      "execution_count": 84,
      "outputs": [
        {
          "output_type": "display_data",
          "data": {
            "image/png": "[encoded data removed]",
            "text/plain": [
              "<Figure size 1008x288 with 1 Axes>"
            ]
          },
          "metadata": {
            "needs_background": "light"
          }
        }
      ]
    },
    {
      "cell_type": "code",
      "metadata": {
        "colab": {
          "base_uri": "https://localhost:8080/"
        },
        "id": "OFly923upkJ-",
        "outputId": "f206495a-d5b0-4df9-abaf-b09f9cdf0124"
      },
      "source": [
        "#summary for the age column \n",
        "df['Age Group'].value_counts()"
      ],
      "execution_count": 85,
      "outputs": [
        {
          "output_type": "execute_result",
          "data": {
            "text/plain": [
              "17_to_25       13505\n",
              "40_to_64       13238\n",
              "26_to_39       12135\n",
              "75_or_older     5045\n",
              "0_to_16         3969\n",
              "65_to_74        3963\n",
              "Name: Age Group, dtype: int64"
            ]
          },
          "metadata": {},
          "execution_count": 85
        }
      ]
    },
    {
      "cell_type": "code",
      "metadata": {
        "colab": {
          "base_uri": "https://localhost:8080/",
          "height": 313
        },
        "id": "_LZoRydgdSV2",
        "outputId": "79dc8b09-f9b6-425c-bde8-872d5af18f8b"
      },
      "source": [
        "#creating a histogram for number of crashes for different ages groups\n",
        "plt.hist(df[\"Age Group\"], histtype='bar', rwidth=0.9, bins = 6)\n",
        "plt.xlabel('Age Group')\n",
        "plt.ylabel('Crashes number')\n",
        "plt.title('Number of fatalities per age group') \n",
        "plt.figure(figsize=(4, 3))\n",
        "plt.show()\n"
      ],
      "execution_count": 86,
      "outputs": [
        {
          "output_type": "display_data",
          "data": {
            "image/png": "[encoded data removed]",
            "text/plain": [
              "<Figure size 432x288 with 1 Axes>"
            ]
          },
          "metadata": {
            "needs_background": "light"
          }
        },
        {
          "output_type": "display_data",
          "data": {
            "text/plain": [
              "<Figure size 288x216 with 0 Axes>"
            ]
          },
          "metadata": {}
        }
      ]
    },
    {
      "cell_type": "code",
      "metadata": {
        "colab": {
          "base_uri": "https://localhost:8080/"
        },
        "id": "_EMYIT3Kz1QX",
        "outputId": "953ba43c-f914-4b85-e317-42ae5a79112a"
      },
      "source": [
        "#summary for the age column \n",
        "df['Age'].describe()"
      ],
      "execution_count": 87,
      "outputs": [
        {
          "output_type": "execute_result",
          "data": {
            "text/plain": [
              "count    51855.000000\n",
              "mean        39.828445\n",
              "std         21.732201\n",
              "min          0.000000\n",
              "25%         22.000000\n",
              "50%         34.000000\n",
              "75%         55.000000\n",
              "max        101.000000\n",
              "Name: Age, dtype: float64"
            ]
          },
          "metadata": {},
          "execution_count": 87
        }
      ]
    },
    {
      "cell_type": "markdown",
      "metadata": {
        "id": "HSjaZMMrcKKH"
      },
      "source": [
        "Specific objective: To determine the number of road fatalities experienced  by different age groups"
      ]
    },
    {
      "cell_type": "code",
      "metadata": {
        "colab": {
          "base_uri": "https://localhost:8080/"
        },
        "id": "8S8nYnFnmmop",
        "outputId": "d4efb1f2-7f79-4250-ee46-18f93eadf0bc"
      },
      "source": [
        "df[\"Age\"].value_counts(bins = 10, sort = False)"
      ],
      "execution_count": 88,
      "outputs": [
        {
          "output_type": "execute_result",
          "data": {
            "text/plain": [
              "(-0.10200000000000001, 10.1]     1972\n",
              "(10.1, 20.2]                     8747\n",
              "(20.2, 30.3]                    11854\n",
              "(30.3, 40.4]                     7780\n",
              "(40.4, 50.5]                     6070\n",
              "(50.5, 60.6]                     4734\n",
              "(60.6, 70.7]                     4144\n",
              "(70.7, 80.8]                     3914\n",
              "(80.8, 90.9]                     2316\n",
              "(90.9, 101.0]                     324\n",
              "Name: Age, dtype: int64"
            ]
          },
          "metadata": {},
          "execution_count": 88
        }
      ]
    },
    {
      "cell_type": "code",
      "metadata": {
        "id": "f1_emnTUWK63",
        "colab": {
          "base_uri": "https://localhost:8080/",
          "height": 350
        },
        "outputId": "7edc1e29-fa0d-46f4-d70a-1312328e0319"
      },
      "source": [
        "#Histogram for Distribution of Crashes per age\n",
        "plt.figure(figsize=(8, 5))\n",
        "plt.hist(df[\"Age\"], bins=10, histtype='bar', rwidth=0.9)\n",
        "plt.xlabel('Age')\n",
        "plt.ylabel('Crashes number')\n",
        "plt.title('Distribution of Crashes per age') \n",
        "plt.show()\n",
        "#The age group 20-30 are prone to more crash fatalities with11854 fatalities and the least affected age group is 90-100 which had 324 fatalities."
      ],
      "execution_count": 89,
      "outputs": [
        {
          "output_type": "display_data",
          "data": {
            "image/png": "[encoded data removed]",
            "text/plain": [
              "<Figure size 576x360 with 1 Axes>"
            ]
          },
          "metadata": {
            "needs_background": "light"
          }
        }
      ]
    },
    {
      "cell_type": "markdown",
      "metadata": {
        "id": "VT6ddaIkd4T-"
      },
      "source": [
        "Specific objective: To determine the number of road fatalities experienced  by gender"
      ]
    },
    {
      "cell_type": "code",
      "metadata": {
        "colab": {
          "base_uri": "https://localhost:8080/"
        },
        "id": "TsJGIglTm_MY",
        "outputId": "4321dc2f-de25-48f0-c29b-b51814c05861"
      },
      "source": [
        "#summary for the gender column \n",
        "df[\"Gender\"].value_counts()"
      ],
      "execution_count": 90,
      "outputs": [
        {
          "output_type": "execute_result",
          "data": {
            "text/plain": [
              "Male           37140\n",
              "Female         14714\n",
              "Unspecified        1\n",
              "Name: Gender, dtype: int64"
            ]
          },
          "metadata": {},
          "execution_count": 90
        }
      ]
    },
    {
      "cell_type": "code",
      "metadata": {
        "colab": {
          "base_uri": "https://localhost:8080/",
          "height": 350
        },
        "id": "LpAk_oX7dDCU",
        "outputId": "7195273d-6a10-4e47-833a-07a3d92b730f"
      },
      "source": [
        "#creating a histogram for number of crashes per gender\n",
        "plt.figure(figsize=(8, 5))\n",
        "plt.hist(df[\"Gender\"], histtype='bar', rwidth=0.9, bins = 3)\n",
        "plt.xlabel('Gender')\n",
        "plt.ylabel('Crashes number')\n",
        "plt.title('Distribution of Crashes per Gender') \n",
        "plt.show()\n",
        "#More men are prone to fatalities  than female"
      ],
      "execution_count": 91,
      "outputs": [
        {
          "output_type": "display_data",
          "data": {
            "image/png": "[encoded data removed]",
            "text/plain": [
              "<Figure size 576x360 with 1 Axes>"
            ]
          },
          "metadata": {
            "needs_background": "light"
          }
        }
      ]
    },
    {
      "cell_type": "markdown",
      "metadata": {
        "id": "oHR53-kAebvB"
      },
      "source": [
        "Specific objective: To determine the number of road fatalities occurring on different days of the week"
      ]
    },
    {
      "cell_type": "code",
      "metadata": {
        "colab": {
          "base_uri": "https://localhost:8080/"
        },
        "id": "7AGIEE9UnM77",
        "outputId": "e5406783-e3cd-4bf3-bd58-6b7dbee398b5"
      },
      "source": [
        "#summary for the day od week column \n",
        "df[\"Dayweek\"].value_counts()"
      ],
      "execution_count": 92,
      "outputs": [
        {
          "output_type": "execute_result",
          "data": {
            "text/plain": [
              "Saturday     9489\n",
              "Friday       8500\n",
              "Sunday       8299\n",
              "Thursday     6975\n",
              "Wednesday    6538\n",
              "Tuesday      6054\n",
              "Monday       6000\n",
              "Name: Dayweek, dtype: int64"
            ]
          },
          "metadata": {},
          "execution_count": 92
        }
      ]
    },
    {
      "cell_type": "code",
      "metadata": {
        "colab": {
          "base_uri": "https://localhost:8080/",
          "height": 350
        },
        "id": "bMWaJGm-eHlP",
        "outputId": "a06f0774-8835-456d-f8f1-421bceeb69ba"
      },
      "source": [
        "#creating a histogram for no.crashes for differenyt days of the week\n",
        "plt.figure(figsize=(8, 5))\n",
        "plt.hist(df[\"Dayweek\"], histtype='bar', rwidth=0.9, bins = 7)\n",
        "plt.xlabel('Dayweek')\n",
        "plt.ylabel('Crashes number')\n",
        "plt.title('Distribution of Crashes per Day of week') \n",
        "plt.show()\n",
        "#Saturday had the highest number of fatalities with  9489 and Monday had the least with 6000"
      ],
      "execution_count": 93,
      "outputs": [
        {
          "output_type": "display_data",
          "data": {
            "image/png": "[encoded data removed]",
            "text/plain": [
              "<Figure size 576x360 with 1 Axes>"
            ]
          },
          "metadata": {
            "needs_background": "light"
          }
        }
      ]
    },
    {
      "cell_type": "markdown",
      "metadata": {
        "id": "VzP1V4UogjYB"
      },
      "source": [
        "#### Bivariate"
      ]
    },
    {
      "cell_type": "code",
      "metadata": {
        "colab": {
          "base_uri": "https://localhost:8080/"
        },
        "id": "ZO3T5XJQuCqs",
        "outputId": "587e654b-f0a0-4bd5-f06e-70b42446a106"
      },
      "source": [
        "#summary for the day of week and christmas column \n",
        "df[[\"Dayweek\", \"Christmas Period\"]].value_counts(sort = False)"
      ],
      "execution_count": 94,
      "outputs": [
        {
          "output_type": "execute_result",
          "data": {
            "text/plain": [
              "Dayweek    Christmas Period\n",
              "Friday     No                  8291\n",
              "           Yes                  209\n",
              "Monday     No                  5804\n",
              "           Yes                  196\n",
              "Saturday   No                  9259\n",
              "           Yes                  230\n",
              "Sunday     No                  8077\n",
              "           Yes                  222\n",
              "Thursday   No                  6724\n",
              "           Yes                  251\n",
              "Tuesday    No                  5810\n",
              "           Yes                  244\n",
              "Wednesday  No                  6297\n",
              "           Yes                  241\n",
              "dtype: int64"
            ]
          },
          "metadata": {},
          "execution_count": 94
        }
      ]
    },
    {
      "cell_type": "code",
      "metadata": {
        "colab": {
          "base_uri": "https://localhost:8080/",
          "height": 513
        },
        "id": "peo156B-tr0C",
        "outputId": "db565feb-ab52-45ef-e7f0-3a1d555a4071"
      },
      "source": [
        "#Stacked column chart for days of week vs christmas period\n",
        "plt.figure(figsize=(15, 8))\n",
        "sns.histplot(x = df[\"Dayweek\"], hue = df[\"Christmas Period\"])\n",
        "plt.xlabel('Day of week')\n",
        "plt.ylabel('Crashes number')\n",
        "plt.title('Distribution of Crashes per Day of week') \n",
        "plt.show()\n"
      ],
      "execution_count": 95,
      "outputs": [
        {
          "output_type": "display_data",
          "data": {
            "image/png": "[encoded data removed]",
            "text/plain": [
              "<Figure size 1080x576 with 1 Axes>"
            ]
          },
          "metadata": {
            "needs_background": "light"
          }
        }
      ]
    },
    {
      "cell_type": "markdown",
      "metadata": {
        "id": "eRFw-1DzukY3"
      },
      "source": [
        "Because it is one day, few people travel. In that year."
      ]
    },
    {
      "cell_type": "code",
      "metadata": {
        "colab": {
          "base_uri": "https://localhost:8080/",
          "height": 513
        },
        "id": "BW7M0fihvZu0",
        "outputId": "148284ba-96f5-4e43-d85a-8c2dc244285a"
      },
      "source": [
        "#Stacked column chart for days of week vs easter period\n",
        "plt.figure(figsize=(15, 8))\n",
        "sns.histplot(x = df[\"Dayweek\"], hue = df[\"Easter Period\"])\n",
        "plt.xlabel('Day of week')\n",
        "plt.ylabel('Crashes number')\n",
        "plt.title('Distribution of Crashes per Day of week') \n",
        "plt.show()"
      ],
      "execution_count": 96,
      "outputs": [
        {
          "output_type": "display_data",
          "data": {
            "image/png": "[encoded data removed]",
            "text/plain": [
              "<Figure size 1080x576 with 1 Axes>"
            ]
          },
          "metadata": {
            "needs_background": "light"
          }
        }
      ]
    },
    {
      "cell_type": "code",
      "metadata": {
        "colab": {
          "base_uri": "https://localhost:8080/"
        },
        "id": "9EI6RBWwvmhc",
        "outputId": "53033da1-448e-45e0-bcf6-7e40dbaf8cc3"
      },
      "source": [
        "#summary for the day of week and easter column \n",
        "df[[\"Dayweek\", \"Easter Period\"]].value_counts(sort = False)"
      ],
      "execution_count": 97,
      "outputs": [
        {
          "output_type": "execute_result",
          "data": {
            "text/plain": [
              "Dayweek    Easter Period\n",
              "Friday     No               8446\n",
              "           Yes                54\n",
              "Monday     No               5955\n",
              "           Yes                45\n",
              "Saturday   No               9433\n",
              "           Yes                56\n",
              "Sunday     No               8251\n",
              "           Yes                48\n",
              "Thursday   No               6917\n",
              "           Yes                58\n",
              "Tuesday    No               6052\n",
              "           Yes                 2\n",
              "Wednesday  No               6535\n",
              "           Yes                 3\n",
              "dtype: int64"
            ]
          },
          "metadata": {},
          "execution_count": 97
        }
      ]
    },
    {
      "cell_type": "markdown",
      "metadata": {
        "id": "X7Xpt11Sv1Yl"
      },
      "source": [
        "They celebrate easter more than christmas. So they travel less. So there are fewer accidents"
      ]
    },
    {
      "cell_type": "markdown",
      "metadata": {
        "id": "RD3kMwpAfkM9"
      },
      "source": [
        "Specific objective: To determine the number of road fatalities occurring at different times of the day."
      ]
    },
    {
      "cell_type": "code",
      "metadata": {
        "id": "JTYW4FoOewzJ",
        "colab": {
          "base_uri": "https://localhost:8080/",
          "height": 513
        },
        "outputId": "a7f51a7e-9410-4a4c-92c5-a59a3ac3a5a5"
      },
      "source": [
        "#Stacked column chart for days of week vs time of the day\n",
        "plt.figure(figsize=(15, 8))\n",
        "sns.histplot(x = df[\"Dayweek\"], hue = df[\"Time of day\"])\n",
        "plt.xlabel('Day of week')\n",
        "plt.ylabel('Crashes number')\n",
        "plt.title('Distribution of Crashes per Day of week') \n",
        "plt.show()"
      ],
      "execution_count": 98,
      "outputs": [
        {
          "output_type": "display_data",
          "data": {
            "image/png": "[encoded data removed]",
            "text/plain": [
              "<Figure size 1080x576 with 1 Axes>"
            ]
          },
          "metadata": {
            "needs_background": "light"
          }
        }
      ]
    },
    {
      "cell_type": "markdown",
      "metadata": {
        "id": "acqk9_TSwegc"
      },
      "source": [
        "Specific objective: To determine the number of road fatalities over the period of 1989 to 2021"
      ]
    },
    {
      "cell_type": "code",
      "metadata": {
        "colab": {
          "base_uri": "https://localhost:8080/",
          "height": 282
        },
        "id": "_y3yd6_KoCuE",
        "outputId": "c5c2989c-bdab-44fa-bfcc-1aed7b08e50c"
      },
      "source": [
        "# Line graph for fatalities for different years\n",
        "df['Year'].value_counts().plot.line(color = 'slateblue')"
      ],
      "execution_count": 99,
      "outputs": [
        {
          "output_type": "execute_result",
          "data": {
            "text/plain": [
              "<matplotlib.axes._subplots.AxesSubplot at 0x7fb474c33250>"
            ]
          },
          "metadata": {},
          "execution_count": 99
        },
        {
          "output_type": "display_data",
          "data": {
            "image/png": "[encoded data removed]",
            "text/plain": [
              "<Figure size 432x288 with 1 Axes>"
            ]
          },
          "metadata": {
            "needs_background": "light"
          }
        }
      ]
    },
    {
      "cell_type": "markdown",
      "metadata": {
        "id": "pIfGtWporRQZ"
      },
      "source": [
        "During the 1990's, there was bad road networks. There was bad training. Technology has improved that has improved safety."
      ]
    },
    {
      "cell_type": "markdown",
      "metadata": {
        "id": "Y3yw7ugpwhF8"
      },
      "source": [
        "Specific objective: To determine the number of road fatalities is more on weekends than weekdays."
      ]
    },
    {
      "cell_type": "code",
      "metadata": {
        "colab": {
          "base_uri": "https://localhost:8080/",
          "height": 312
        },
        "id": "qBDobJK3p0Bt",
        "outputId": "cae2de06-2356-499e-8438-815b93df3fba"
      },
      "source": [
        "#creating a histogram for Crashes per Day of week type\n",
        "plt.hist(df[\"Day of week\"], histtype='bar', rwidth=0.9, bins = 2)\n",
        "plt.xlabel('Type of week')\n",
        "plt.ylabel('Crashes number')\n",
        "plt.title('Distribution of Crashes per Day of week type') \n",
        "plt.figure(figsize=(4, 3))\n",
        "plt.show()"
      ],
      "execution_count": 100,
      "outputs": [
        {
          "output_type": "display_data",
          "data": {
            "image/png": "[encoded data removed]",
            "text/plain": [
              "<Figure size 432x288 with 1 Axes>"
            ]
          },
          "metadata": {
            "needs_background": "light"
          }
        },
        {
          "output_type": "display_data",
          "data": {
            "text/plain": [
              "<Figure size 288x216 with 0 Axes>"
            ]
          },
          "metadata": {}
        }
      ]
    },
    {
      "cell_type": "code",
      "metadata": {
        "id": "Tb1pzB9YcG3J"
      },
      "source": [
        "#Encoding the data\n",
        "from sklearn.preprocessing import LabelEncoder\n",
        "en = LabelEncoder()\n",
        "df['Day of week'] = en.fit_transform(df['Day of week'])\n",
        "df['State']= en.fit_transform(df['State'])\n",
        "df['Dayweek']=en.fit_transform(df['Dayweek'])\n",
        "df['Crash Type']=en.fit_transform(df['Crash Type'])\n",
        "df['Bus Involvement']=en.fit_transform(df['Bus Involvement'])\n",
        "df['Articulated Truck Involvement']=en.fit_transform(df['Articulated Truck Involvement'])\n",
        "df['Road User']=en.fit_transform(df['Road User'])\n",
        "df['Gender']=en.fit_transform(df['Gender'])\n",
        "df['Christmas Period']=en.fit_transform(df['Christmas Period'])\n",
        "df['Easter Period']=en.fit_transform(df['Easter Period'])\n",
        "df['Time of day']=en.fit_transform(df['Time of day'])\n",
        "df['Age Group']=en.fit_transform(df['Age Group'])\n",
        "df['Speed Limit'].replace({'<40':'40','Unspecified':'40'},inplace = True)\n",
        "df['Speed Limit'] = df['Speed Limit'].astype(int)"
      ],
      "execution_count": 101,
      "outputs": []
    },
    {
      "cell_type": "code",
      "metadata": {
        "id": "_kskToM4YRnv",
        "colab": {
          "base_uri": "https://localhost:8080/",
          "height": 752
        },
        "outputId": "93261e59-0117-4166-dc15-eae820e9eabc"
      },
      "source": [
        "#df.info()\n",
        "corr_matrix = df.corr()\n",
        "corr_matrix\n",
        "#visualising the corrmatrix\n",
        "fig, ax = plt.subplots(figsize=(10,10)) \n",
        "sns.heatmap(corr_matrix, annot=False,  linewidths=.5, ax=ax)"
      ],
      "execution_count": 102,
      "outputs": [
        {
          "output_type": "execute_result",
          "data": {
            "text/plain": [
              "<matplotlib.axes._subplots.AxesSubplot at 0x7fb474d0ec50>"
            ]
          },
          "metadata": {},
          "execution_count": 102
        },
        {
          "output_type": "display_data",
          "data": {
            "image/png": "[encoded data removed]",
            "text/plain": [
              "<Figure size 720x720 with 2 Axes>"
            ]
          },
          "metadata": {
            "needs_background": "light"
          }
        }
      ]
    },
    {
      "cell_type": "code",
      "metadata": {
        "colab": {
          "base_uri": "https://localhost:8080/",
          "height": 168
        },
        "id": "K1KotUYwwNRi",
        "outputId": "83e6ea3a-b7be-4026-da1a-07a0b99d88ce"
      },
      "source": [
        "df.head(1)"
      ],
      "execution_count": 103,
      "outputs": [
        {
          "output_type": "execute_result",
          "data": {
            "text/html": [
              "<div>\n",
              "<style scoped>\n",
              "    .dataframe tbody tr th:only-of-type {\n",
              "        vertical-align: middle;\n",
              "    }\n",
              "\n",
              "    .dataframe tbody tr th {\n",
              "        vertical-align: top;\n",
              "    }\n",
              "\n",
              "    .dataframe thead th {\n",
              "        text-align: right;\n",
              "    }\n",
              "</style>\n",
              "<table border=\"1\" class=\"dataframe\">\n",
              "  <thead>\n",
              "    <tr style=\"text-align: right;\">\n",
              "      <th></th>\n",
              "      <th>Crash ID</th>\n",
              "      <th>State</th>\n",
              "      <th>Month</th>\n",
              "      <th>Year</th>\n",
              "      <th>Dayweek</th>\n",
              "      <th>Time</th>\n",
              "      <th>Crash Type</th>\n",
              "      <th>Bus Involvement</th>\n",
              "      <th>Articulated Truck Involvement</th>\n",
              "      <th>Speed Limit</th>\n",
              "      <th>Road User</th>\n",
              "      <th>Gender</th>\n",
              "      <th>Age</th>\n",
              "      <th>Christmas Period</th>\n",
              "      <th>Easter Period</th>\n",
              "      <th>Age Group</th>\n",
              "      <th>Day of week</th>\n",
              "      <th>Time of day</th>\n",
              "    </tr>\n",
              "  </thead>\n",
              "  <tbody>\n",
              "    <tr>\n",
              "      <th>1</th>\n",
              "      <td>20214022</td>\n",
              "      <td>4</td>\n",
              "      <td>9</td>\n",
              "      <td>2021</td>\n",
              "      <td>2</td>\n",
              "      <td>2021-11-11 23:31:00</td>\n",
              "      <td>0</td>\n",
              "      <td>0</td>\n",
              "      <td>0</td>\n",
              "      <td>110</td>\n",
              "      <td>6</td>\n",
              "      <td>0</td>\n",
              "      <td>28</td>\n",
              "      <td>0</td>\n",
              "      <td>0</td>\n",
              "      <td>2</td>\n",
              "      <td>1</td>\n",
              "      <td>1</td>\n",
              "    </tr>\n",
              "  </tbody>\n",
              "</table>\n",
              "</div>"
            ],
            "text/plain": [
              "   Crash ID  State  Month  ...  Age Group  Day of week Time of day\n",
              "1  20214022      4      9  ...          2            1           1\n",
              "\n",
              "[1 rows x 18 columns]"
            ]
          },
          "metadata": {},
          "execution_count": 103
        }
      ]
    },
    {
      "cell_type": "markdown",
      "metadata": {
        "id": "KxLeixxBoMir"
      },
      "source": [
        "## Multivariate analysis"
      ]
    },
    {
      "cell_type": "markdown",
      "metadata": {
        "id": "rw430guc1iC2"
      },
      "source": [
        "####Principal Component Analysis"
      ]
    },
    {
      "cell_type": "code",
      "metadata": {
        "id": "SlFZ3F4XoTiv"
      },
      "source": [
        "\n",
        "#Splitting the dataset into the Training set and Test set\n",
        "from sklearn.decomposition import PCA\n",
        "from sklearn.preprocessing import StandardScaler\n",
        "\n",
        "X=df[['Crash Type','Christmas Period', 'Easter Period' ]]\n",
        "sc = StandardScaler()\n",
        "X = sc.fit_transform(X)\n",
        "\n",
        "pca = PCA()\n",
        "X = pca.fit_transform(X)"
      ],
      "execution_count": 104,
      "outputs": []
    },
    {
      "cell_type": "code",
      "metadata": {
        "colab": {
          "base_uri": "https://localhost:8080/"
        },
        "id": "E_aVyvbBy0s6",
        "outputId": "f568ec2d-c1a1-496c-e038-d728eca60770"
      },
      "source": [
        "#getting the variance ration\n",
        "explained_variance = pca.explained_variance_ratio_\n",
        "explained_variance"
      ],
      "execution_count": 105,
      "outputs": [
        {
          "output_type": "execute_result",
          "data": {
            "text/plain": [
              "array([0.33790887, 0.3343618 , 0.32772933])"
            ]
          },
          "metadata": {},
          "execution_count": 105
        }
      ]
    },
    {
      "cell_type": "markdown",
      "metadata": {
        "id": "0EVyvzgW2MRQ"
      },
      "source": [
        "###Factor Analyzer\n"
      ]
    },
    {
      "cell_type": "code",
      "metadata": {
        "colab": {
          "base_uri": "https://localhost:8080/"
        },
        "id": "4Rssg7LS2ayW",
        "outputId": "4892f08f-a152-4657-d88a-aa83adae322b"
      },
      "source": [
        "!pip install factor_analyzer==0.2.3"
      ],
      "execution_count": 106,
      "outputs": [
        {
          "output_type": "stream",
          "name": "stdout",
          "text": [
            "Requirement already satisfied: factor_analyzer==0.2.3 in /usr/local/lib/python3.7/dist-packages (0.2.3)\n",
            "Requirement already satisfied: numpy in /usr/local/lib/python3.7/dist-packages (from factor_analyzer==0.2.3) (1.19.5)\n",
            "Requirement already satisfied: scipy in /usr/local/lib/python3.7/dist-packages (from factor_analyzer==0.2.3) (1.4.1)\n",
            "Requirement already satisfied: pandas in /usr/local/lib/python3.7/dist-packages (from factor_analyzer==0.2.3) (1.1.5)\n",
            "Requirement already satisfied: pytz>=2017.2 in /usr/local/lib/python3.7/dist-packages (from pandas->factor_analyzer==0.2.3) (2018.9)\n",
            "Requirement already satisfied: python-dateutil>=2.7.3 in /usr/local/lib/python3.7/dist-packages (from pandas->factor_analyzer==0.2.3) (2.8.2)\n",
            "Requirement already satisfied: six>=1.5 in /usr/local/lib/python3.7/dist-packages (from python-dateutil>=2.7.3->pandas->factor_analyzer==0.2.3) (1.15.0)\n"
          ]
        }
      ]
    },
    {
      "cell_type": "code",
      "metadata": {
        "colab": {
          "base_uri": "https://localhost:8080/",
          "height": 142
        },
        "id": "FCwm4fB_zMC7",
        "outputId": "20965809-99c6-42fd-99c4-0d070bffe835"
      },
      "source": [
        "from factor_analyzer.factor_analyzer import FactorAnalyzer\n",
        "\n",
        "# Creating factor analysis object and perform factor analysis\n",
        "fa = FactorAnalyzer()\n",
        "fa.analyze(df[['Crash Type','Christmas Period', 'Easter Period' ]], 3, rotation=None)\n",
        "\n",
        "# Checking the Eigenvalues\n",
        "ev, v = fa.get_eigenvalues()\n",
        "ev\n"
      ],
      "execution_count": 107,
      "outputs": [
        {
          "output_type": "execute_result",
          "data": {
            "text/html": [
              "<div>\n",
              "<style scoped>\n",
              "    .dataframe tbody tr th:only-of-type {\n",
              "        vertical-align: middle;\n",
              "    }\n",
              "\n",
              "    .dataframe tbody tr th {\n",
              "        vertical-align: top;\n",
              "    }\n",
              "\n",
              "    .dataframe thead th {\n",
              "        text-align: right;\n",
              "    }\n",
              "</style>\n",
              "<table border=\"1\" class=\"dataframe\">\n",
              "  <thead>\n",
              "    <tr style=\"text-align: right;\">\n",
              "      <th></th>\n",
              "      <th>Original_Eigenvalues</th>\n",
              "    </tr>\n",
              "  </thead>\n",
              "  <tbody>\n",
              "    <tr>\n",
              "      <th>0</th>\n",
              "      <td>1.013727</td>\n",
              "    </tr>\n",
              "    <tr>\n",
              "      <th>1</th>\n",
              "      <td>1.003085</td>\n",
              "    </tr>\n",
              "    <tr>\n",
              "      <th>2</th>\n",
              "      <td>0.983188</td>\n",
              "    </tr>\n",
              "  </tbody>\n",
              "</table>\n",
              "</div>"
            ],
            "text/plain": [
              "   Original_Eigenvalues\n",
              "0              1.013727\n",
              "1              1.003085\n",
              "2              0.983188"
            ]
          },
          "metadata": {},
          "execution_count": 107
        }
      ]
    },
    {
      "cell_type": "code",
      "metadata": {
        "colab": {
          "base_uri": "https://localhost:8080/",
          "height": 196
        },
        "id": "wDkV7yKQ2xFg",
        "outputId": "879a62f8-bf9f-4a15-bf51-808822f7f3f6"
      },
      "source": [
        "fa.analyze(df[['Crash Type','Christmas Period', 'Easter Period' ]], 1, rotation=\"varimax\")\n",
        "fa.loadings"
      ],
      "execution_count": 108,
      "outputs": [
        {
          "output_type": "stream",
          "name": "stderr",
          "text": [
            "/usr/local/lib/python3.7/dist-packages/factor_analyzer/factor_analyzer.py:770: UserWarning: No rotation will be performed when the number of factors equals 1.\n",
            "  warnings.warn('No rotation will be performed when '\n"
          ]
        },
        {
          "output_type": "execute_result",
          "data": {
            "text/html": [
              "<div>\n",
              "<style scoped>\n",
              "    .dataframe tbody tr th:only-of-type {\n",
              "        vertical-align: middle;\n",
              "    }\n",
              "\n",
              "    .dataframe tbody tr th {\n",
              "        vertical-align: top;\n",
              "    }\n",
              "\n",
              "    .dataframe thead th {\n",
              "        text-align: right;\n",
              "    }\n",
              "</style>\n",
              "<table border=\"1\" class=\"dataframe\">\n",
              "  <thead>\n",
              "    <tr style=\"text-align: right;\">\n",
              "      <th></th>\n",
              "      <th>Factor1</th>\n",
              "    </tr>\n",
              "  </thead>\n",
              "  <tbody>\n",
              "    <tr>\n",
              "      <th>Crash Type</th>\n",
              "      <td>-0.008032</td>\n",
              "    </tr>\n",
              "    <tr>\n",
              "      <th>Christmas Period</th>\n",
              "      <td>-0.997497</td>\n",
              "    </tr>\n",
              "    <tr>\n",
              "      <th>Easter Period</th>\n",
              "      <td>0.012787</td>\n",
              "    </tr>\n",
              "  </tbody>\n",
              "</table>\n",
              "</div>"
            ],
            "text/plain": [
              "                   Factor1\n",
              "Crash Type       -0.008032\n",
              "Christmas Period -0.997497\n",
              "Easter Period     0.012787"
            ]
          },
          "metadata": {},
          "execution_count": 108
        }
      ]
    },
    {
      "cell_type": "code",
      "metadata": {
        "colab": {
          "base_uri": "https://localhost:8080/",
          "height": 142
        },
        "id": "w71L1puN38du",
        "outputId": "d960ac35-7888-404b-d4bc-102ae47eebd8"
      },
      "source": [
        "#getting the vaiance \n",
        "fa.get_factor_variance()"
      ],
      "execution_count": 109,
      "outputs": [
        {
          "output_type": "execute_result",
          "data": {
            "text/html": [
              "<div>\n",
              "<style scoped>\n",
              "    .dataframe tbody tr th:only-of-type {\n",
              "        vertical-align: middle;\n",
              "    }\n",
              "\n",
              "    .dataframe tbody tr th {\n",
              "        vertical-align: top;\n",
              "    }\n",
              "\n",
              "    .dataframe thead th {\n",
              "        text-align: right;\n",
              "    }\n",
              "</style>\n",
              "<table border=\"1\" class=\"dataframe\">\n",
              "  <thead>\n",
              "    <tr style=\"text-align: right;\">\n",
              "      <th></th>\n",
              "      <th>Factor1</th>\n",
              "    </tr>\n",
              "  </thead>\n",
              "  <tbody>\n",
              "    <tr>\n",
              "      <th>SS Loadings</th>\n",
              "      <td>0.995229</td>\n",
              "    </tr>\n",
              "    <tr>\n",
              "      <th>Proportion Var</th>\n",
              "      <td>0.331743</td>\n",
              "    </tr>\n",
              "    <tr>\n",
              "      <th>Cumulative Var</th>\n",
              "      <td>0.331743</td>\n",
              "    </tr>\n",
              "  </tbody>\n",
              "</table>\n",
              "</div>"
            ],
            "text/plain": [
              "                 Factor1\n",
              "SS Loadings     0.995229\n",
              "Proportion Var  0.331743\n",
              "Cumulative Var  0.331743"
            ]
          },
          "metadata": {},
          "execution_count": 109
        }
      ]
    },
    {
      "cell_type": "markdown",
      "metadata": {
        "id": "XUbkCKF5VLOr"
      },
      "source": [
        "### Hypothesis Testing"
      ]
    },
    {
      "cell_type": "markdown",
      "metadata": {
        "id": "nWfrL7oWYXyZ"
      },
      "source": [
        "Null: The average age of crash fatalities on the weekday is equal to the average age of crash fatalities on the weekend i.e U1 = U2.\n",
        "\n",
        "Alternative: The average age of crash fatalities on the weekday is not equal to the average age of crash fatalities on the weekend i.e U1 != U2.\n",
        "\n",
        "where U1 = average age of crash fatalities during the weekend \n",
        "\n",
        "U2 is the average age of crush fatalities during the weekday."
      ]
    },
    {
      "cell_type": "code",
      "metadata": {
        "colab": {
          "base_uri": "https://localhost:8080/"
        },
        "id": "wpIsD-B5WjE0",
        "outputId": "e90083a4-b017-4d68-b1e8-88a41eacda55"
      },
      "source": [
        "# Converting the encoded data to labels\n",
        "\n",
        "df['Day of week'] = df['Day of week'].replace({0:'Weekday',1:'Weekend',})\n",
        "\n",
        "df['Day of week'].unique()\n"
      ],
      "execution_count": 110,
      "outputs": [
        {
          "output_type": "execute_result",
          "data": {
            "text/plain": [
              "array(['Weekend', 'Weekday'], dtype=object)"
            ]
          },
          "metadata": {},
          "execution_count": 110
        }
      ]
    },
    {
      "cell_type": "code",
      "metadata": {
        "id": "3H3gFz-B5AAh"
      },
      "source": [
        "# Creating a weekend and weekday data frame\n",
        "\n",
        "df1 = df[df['Day of week']== 'Weekday']\n",
        "\n",
        "df2 = df[df['Day of week']== 'Weekend']\n"
      ],
      "execution_count": 111,
      "outputs": []
    },
    {
      "cell_type": "code",
      "metadata": {
        "id": "B57x8x6P6tC-"
      },
      "source": [
        "# Sampling data Randomly\n",
        "import random\n",
        "sample_weekday = df1['Age'].sample(n = 1500,random_state=1)\n",
        "\n",
        "sample_weekend = df2['Age'].sample(n = 1500,random_state=1)\n"
      ],
      "execution_count": 112,
      "outputs": []
    },
    {
      "cell_type": "code",
      "metadata": {
        "colab": {
          "base_uri": "https://localhost:8080/"
        },
        "id": "DAeQS3FvLQXi",
        "outputId": "1dfc3a19-3c1d-41b4-9070-52af531b474b"
      },
      "source": [
        "#checking for normality using shapiro test \n",
        "#using the level of signifance 0.05\n",
        "\n",
        "from scipy.stats import shapiro \n",
        "stat, p = shapiro(sample_weekday)\n",
        "print('Statistics=%.3f, p=%.3f' % (stat, p))\n",
        "alpha = 0.05\n",
        "if p > alpha:\n",
        "\tprint('Sample looks Gaussian')\n",
        "else:\n",
        "\tprint('Sample does not look Gaussian')\n",
        "\n",
        "# p_value,1.00 > 0.05 hence failing to reject null hypothesis thus population is from a normal distribution"
      ],
      "execution_count": 113,
      "outputs": [
        {
          "output_type": "stream",
          "name": "stdout",
          "text": [
            "Statistics=0.961, p=0.000\n",
            "Sample does not look Gaussian\n"
          ]
        }
      ]
    },
    {
      "cell_type": "code",
      "metadata": {
        "colab": {
          "base_uri": "https://localhost:8080/"
        },
        "id": "P1iAFDBGLf3b",
        "outputId": "e17b9904-0992-4124-a71c-7f1c20de5c8f"
      },
      "source": [
        "#checking normality for the weekend population using shapiro\n",
        "\n",
        "stat, p = shapiro(sample_weekend)\n",
        "print('Statistics=%.3f, p=%.3f' % (stat, p))\n",
        "alpha = 0.05\n",
        "if p > alpha:\n",
        "\tprint('Sample looks Gaussian')\n",
        "else:\n",
        "\tprint('Sample does not look Gaussian')\n",
        " #p_value,1 > 0.05 hence fail to reject the null hypothesis"
      ],
      "execution_count": 114,
      "outputs": [
        {
          "output_type": "stream",
          "name": "stdout",
          "text": [
            "Statistics=0.931, p=0.000\n",
            "Sample does not look Gaussian\n"
          ]
        }
      ]
    },
    {
      "cell_type": "code",
      "metadata": {
        "colab": {
          "base_uri": "https://localhost:8080/"
        },
        "id": "wlEm1Uj21HgD",
        "outputId": "c0fe04a0-ede2-4c54-aee2-e44bdd3b863b"
      },
      "source": [
        "#Calculating the p-value, t-test \n",
        "from scipy.stats import ttest_ind\n",
        "statistic, pvalue = ttest_ind(sample_weekday, sample_weekend, equal_var=False)\n",
        "pvalue = 1 - pvalue\n",
        "\n",
        "# Printing out the p-value and the statistic\n",
        "\n",
        "print(\"p-value of the test = \",pvalue)\n",
        "print(\"Statistic = \",statistic)\n",
        "print(\"_\" * 100)\n",
        "if pvalue < 0.05:\n",
        "  print(\"The average age of crash fatalities on the weekday is equal to the average age of crash fatalaties on the weekend.\")\n",
        "  print(\"_\" * 100) \n",
        "else:\n",
        "  print(\"The average age of crash fatalities on the weekday is not equal to the average age of crash fatalaties on the weekend.\")\n",
        " \n",
        "\n",
        "# Means of the two samples\n",
        "print(sample_weekday.mean())\n",
        "print(sample_weekend.mean())"
      ],
      "execution_count": 115,
      "outputs": [
        {
          "output_type": "stream",
          "name": "stdout",
          "text": [
            "p-value of the test =  0.9999999999999999\n",
            "Statistic =  8.295265180934074\n",
            "____________________________________________________________________________________________________\n",
            "The average age of crash fatalities on the weekday is not equal to the average age of crash fatalaties on the weekend.\n",
            "42.77333333333333\n",
            "36.346\n"
          ]
        }
      ]
    }
  ]
}